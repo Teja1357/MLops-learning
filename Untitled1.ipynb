{
 "cells": [
  {
   "cell_type": "code",
   "execution_count": null,
   "id": "f638f5d7-fbe1-402d-9333-89eaa51782ed",
   "metadata": {},
   "outputs": [],
   "source": [
    "import pandas as pd"
   ]
  },
  {
   "cell_type": "code",
   "execution_count": null,
   "id": "f8b4c378-abe2-4213-8df6-35bec4d3840c",
   "metadata": {},
   "outputs": [],
   "source": [
    "rentalDF = pd.read_csv('data/rental_csv')"
   ]
  },
  {
   "cell_type": "code",
   "execution_count": 2,
   "id": "bbe9a09e-33ef-49b8-b6f5-329ce77ddf89",
   "metadata": {},
   "outputs": [
    {
     "ename": "NameError",
     "evalue": "name 'rentalDF' is not defined",
     "output_type": "error",
     "traceback": [
      "\u001b[31m---------------------------------------------------------------------------\u001b[39m",
      "\u001b[31mNameError\u001b[39m                                 Traceback (most recent call last)",
      "\u001b[36mCell\u001b[39m\u001b[36m \u001b[39m\u001b[32mIn[2]\u001b[39m\u001b[32m, line 1\u001b[39m\n\u001b[32m----> \u001b[39m\u001b[32m1\u001b[39m \u001b[43mrentalDF\u001b[49m\n",
      "\u001b[31mNameError\u001b[39m: name 'rentalDF' is not defined"
     ]
    }
   ],
   "source": [
    "rentalDF"
   ]
  },
  {
   "cell_type": "code",
   "execution_count": null,
   "id": "ab415441-3571-40cf-b004-66ecaf8d8adc",
   "metadata": {},
   "outputs": [],
   "source": []
  }
 ],
 "metadata": {
  "kernelspec": {
   "display_name": "Python 3 (ipykernel)",
   "language": "python",
   "name": "python3"
  },
  "language_info": {
   "codemirror_mode": {
    "name": "ipython",
    "version": 3
   },
   "file_extension": ".py",
   "mimetype": "text/x-python",
   "name": "python",
   "nbconvert_exporter": "python",
   "pygments_lexer": "ipython3",
   "version": "3.12.4"
  }
 },
 "nbformat": 4,
 "nbformat_minor": 5
}
