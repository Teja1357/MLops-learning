{
 "cells": [
  {
   "cell_type": "code",
   "execution_count": 2,
   "id": "32da3c14-22b4-4087-8359-626d6b670e86",
   "metadata": {},
   "outputs": [
    {
     "name": "stdout",
     "output_type": "stream",
     "text": [
      "Hello all... Welcome to notebooks\n"
     ]
    }
   ],
   "source": [
    "print('Hello all... Welcome to notebooks')"
   ]
  },
  {
   "cell_type": "code",
   "execution_count": 3,
   "id": "84678811-c7ea-47ca-a9a1-1e3e2951e32a",
   "metadata": {},
   "outputs": [
    {
     "name": "stdout",
     "output_type": "stream",
     "text": [
      "Hello all... Welcome to Jupyterlab\n"
     ]
    }
   ],
   "source": [
    "print('Hello all... Welcome to Jupyterlab')"
   ]
  },
  {
   "cell_type": "code",
   "execution_count": null,
   "id": "95637f60-8e95-436e-95a6-0c5ded7acf43",
   "metadata": {},
   "outputs": [],
   "source": [
    "import pandas as pd"
   ]
  },
  {
   "cell_type": "code",
   "execution_count": 4,
   "id": "e876a5ec-be53-46e4-8429-f721122c6b20",
   "metadata": {},
   "outputs": [
    {
     "ename": "NameError",
     "evalue": "name 'pd' is not defined",
     "output_type": "error",
     "traceback": [
      "\u001b[31m---------------------------------------------------------------------------\u001b[39m",
      "\u001b[31mNameError\u001b[39m                                 Traceback (most recent call last)",
      "\u001b[36mCell\u001b[39m\u001b[36m \u001b[39m\u001b[32mIn[4]\u001b[39m\u001b[32m, line 1\u001b[39m\n\u001b[32m----> \u001b[39m\u001b[32m1\u001b[39m rentalDF = \u001b[43mpd\u001b[49m.read_csv(\u001b[33m'\u001b[39m\u001b[33mdata/rental_1000.csv\u001b[39m\u001b[33m'\u001b[39m)\n",
      "\u001b[31mNameError\u001b[39m: name 'pd' is not defined"
     ]
    }
   ],
   "source": [
    "rentalDF = pd.read_csv('data/rental_1000.csv')"
   ]
  },
  {
   "cell_type": "raw",
   "id": "1321abcd-ee9b-4581-87ff-fce9a6ebd4b7",
   "metadata": {},
   "source": [
    "rentalDF"
   ]
  },
  {
   "cell_type": "code",
   "execution_count": null,
   "id": "f43b7b30-469f-4335-979a-c5409b7fc3eb",
   "metadata": {},
   "outputs": [],
   "source": []
  }
 ],
 "metadata": {
  "kernelspec": {
   "display_name": "Python 3 (ipykernel)",
   "language": "python",
   "name": "python3"
  },
  "language_info": {
   "codemirror_mode": {
    "name": "ipython",
    "version": 3
   },
   "file_extension": ".py",
   "mimetype": "text/x-python",
   "name": "python",
   "nbconvert_exporter": "python",
   "pygments_lexer": "ipython3",
   "version": "3.12.4"
  }
 },
 "nbformat": 4,
 "nbformat_minor": 5
}
