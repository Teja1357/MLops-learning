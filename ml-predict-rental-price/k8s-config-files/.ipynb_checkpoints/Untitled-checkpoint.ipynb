{
 "cells": [
  {
   "cell_type": "raw",
   "id": "556722f4-a7b6-4d85-9328-ba3e465aa48f",
   "metadata": {},
   "source": [
    "# pip install kfp"
   ]
  },
  {
   "cell_type": "markdown",
   "id": "db5c655c-01f1-49c6-8faa-1738e6c7b51e",
   "metadata": {},
   "source": [
    "from kfp import dsl"
   ]
  },
  {
   "cell_type": "code",
   "execution_count": null,
   "id": "78a05faa-a68d-447c-9d63-b09fdf3c27f6",
   "metadata": {},
   "outputs": [],
   "source": [
    "@dsl.component\n",
    "def f1(a: int, b: int) -> int:\n",
    "    return a + b\n",
    "\n",
    "@dsl.component\n",
    "def f2(a: int, b: int) -> int:\n",
    "    return a - b  \n",
    "\n",
    "@dsl.component\n",
    "def f3(a: int b: int) -> int:\n",
    "    return a*b"
   ]
  },
  {
   "cell_type": "code",
   "execution_count": null,
   "id": "3f06c6fd-77ee-48a1-b7bb-adf07cb0b677",
   "metadata": {},
   "outputs": [],
   "source": [
    "@dsl.pipeline\n",
    "def hello_pipeline(recipient: str) -> str:\n",
    "    hello_task = say_hello(name=recipient)\n",
    "    return hello_task.output"
   ]
  },
  {
   "cell_type": "code",
   "execution_count": 4,
   "id": "1b69b5a7-3650-4a85-aa48-a7cd1013c612",
   "metadata": {},
   "outputs": [
    {
     "ename": "NameError",
     "evalue": "name 'dsl' is not defined",
     "output_type": "error",
     "traceback": [
      "\u001b[31m---------------------------------------------------------------------------\u001b[39m",
      "\u001b[31mNameError\u001b[39m                                 Traceback (most recent call last)",
      "\u001b[36mCell\u001b[39m\u001b[36m \u001b[39m\u001b[32mIn[4]\u001b[39m\u001b[32m, line 1\u001b[39m\n\u001b[32m----> \u001b[39m\u001b[32m1\u001b[39m \u001b[38;5;129m@dsl\u001b[39m.pipeline\n\u001b[32m      2\u001b[39m \u001b[38;5;28;01mdef\u001b[39;00m\u001b[38;5;250m \u001b[39m\u001b[34mnumpipeline\u001b[39m(a: \u001b[38;5;28mint\u001b[39m, b: \u001b[38;5;28mint\u001b[39m) -> \u001b[38;5;28mint\u001b[39m:\n\u001b[32m      3\u001b[39m     task1 = f1(a=a,b=b)\n\u001b[32m      4\u001b[39m     task2 = f2(a=a,b=b)\n",
      "\u001b[31mNameError\u001b[39m: name 'dsl' is not defined"
     ]
    }
   ],
   "source": [
    "@dsl.pipeline\n",
    "def numpipeline(a: int, b: int) -> int:\n",
    "    task1 = f1(a=a,b=b)\n",
    "    task2 = f2(a=a,b=b)\n",
    "    return task1.output\n",
    "\n",
    "    #return f3(task1.output,task2.output)"
   ]
  },
  {
   "cell_type": "code",
   "execution_count": null,
   "id": "f065d207-39cc-41ba-aa5f-b4c64ae73116",
   "metadata": {},
   "outputs": [],
   "source": []
  }
 ],
 "metadata": {
  "kernelspec": {
   "display_name": "Python 3 (ipykernel)",
   "language": "python",
   "name": "python3"
  },
  "language_info": {
   "codemirror_mode": {
    "name": "ipython",
    "version": 3
   },
   "file_extension": ".py",
   "mimetype": "text/x-python",
   "name": "python",
   "nbconvert_exporter": "python",
   "pygments_lexer": "ipython3",
   "version": "3.12.4"
  }
 },
 "nbformat": 4,
 "nbformat_minor": 5
}
