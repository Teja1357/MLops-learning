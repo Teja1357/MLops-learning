{
 "cells": [
  {
   "cell_type": "code",
   "execution_count": null,
   "id": "9b5da788-e38f-4dbb-81d0-a65dabdd1e8f",
   "metadata": {},
   "outputs": [],
   "source": [
    "# pip install kfp"
   ]
  },
  {
   "cell_type": "code",
   "execution_count": null,
   "id": "78282546-d4c7-4bbf-8af5-23dc8b558a17",
   "metadata": {},
   "outputs": [],
   "source": [
    "from kfp import dsl"
   ]
  },
  {
   "cell_type": "code",
   "execution_count": null,
   "id": "79f796c6-cba0-485d-a51a-4e0e61af503e",
   "metadata": {},
   "outputs": [],
   "source": [
    "@dsl.component\n",
    "def f1(a: int, b: int) -> int:\n",
    "    return a + b\n",
    "\n",
    "@dsl.component\n",
    "def f2(a: int, b: int) -> int:\n",
    "    return a - b\n",
    "\n",
    "@dsl.component\n",
    "def f3(a: int, b: int) -> int:\n",
    "    return a*b"
   ]
  },
  {
   "cell_type": "code",
   "execution_count": null,
   "id": "4c5e0ba2-2183-4180-818c-a41e05d6696a",
   "metadata": {},
   "outputs": [],
   "source": [
    "@dsl.pipeline\n",
    "def numpipeline(a: int, b: int) -> int:\n",
    "    task1 = f1(a=a,b=b)\n",
    "    task2 = f2(a=a,b=b)\n",
    "    task3 = f3(a=task1.output,b=task2.output)\n",
    "    return task3.output"
   ]
  },
  {
   "cell_type": "code",
   "execution_count": 2,
   "id": "b7a06e64-ec18-4e53-b0da-fa919980fad4",
   "metadata": {},
   "outputs": [
    {
     "ename": "ModuleNotFoundError",
     "evalue": "No module named 'kfp'",
     "output_type": "error",
     "traceback": [
      "\u001b[31m---------------------------------------------------------------------------\u001b[39m",
      "\u001b[31mModuleNotFoundError\u001b[39m                       Traceback (most recent call last)",
      "\u001b[36mCell\u001b[39m\u001b[36m \u001b[39m\u001b[32mIn[2]\u001b[39m\u001b[32m, line 1\u001b[39m\n\u001b[32m----> \u001b[39m\u001b[32m1\u001b[39m \u001b[38;5;28;01mfrom\u001b[39;00m\u001b[38;5;250m \u001b[39m\u001b[34;01mkfp\u001b[39;00m\u001b[38;5;250m \u001b[39m\u001b[38;5;28;01mimport\u001b[39;00m compiler\n\u001b[32m      3\u001b[39m compiler.Compiler().compile(numpipeline, \u001b[33m'\u001b[39m\u001b[33mnumpipeline.yaml\u001b[39m\u001b[33m'\u001b[39m)\n",
      "\u001b[31mModuleNotFoundError\u001b[39m: No module named 'kfp'"
     ]
    }
   ],
   "source": [
    "from kfp import compiler\n",
    "\n",
    "compiler.Compiler().compile(numpipeline, 'numpipeline.yaml')"
   ]
  },
  {
   "cell_type": "code",
   "execution_count": null,
   "id": "234e1e3d-2ee3-4b87-afca-c0f60ec1d866",
   "metadata": {},
   "outputs": [],
   "source": []
  }
 ],
 "metadata": {
  "kernelspec": {
   "display_name": "Python 3 (ipykernel)",
   "language": "python",
   "name": "python3"
  },
  "language_info": {
   "codemirror_mode": {
    "name": "ipython",
    "version": 3
   },
   "file_extension": ".py",
   "mimetype": "text/x-python",
   "name": "python",
   "nbconvert_exporter": "python",
   "pygments_lexer": "ipython3",
   "version": "3.12.4"
  }
 },
 "nbformat": 4,
 "nbformat_minor": 5
}
