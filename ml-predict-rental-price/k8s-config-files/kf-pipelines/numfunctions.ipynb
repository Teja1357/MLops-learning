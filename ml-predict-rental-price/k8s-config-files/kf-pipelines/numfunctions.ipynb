{
 "cells": [
  {
   "cell_type": "code",
   "execution_count": 5,
   "id": "d871c9d7-0434-42d8-96ea-121cc5977a45",
   "metadata": {},
   "outputs": [],
   "source": [
    "from kfp import dsl"
   ]
  },
  {
   "cell_type": "code",
   "execution_count": 7,
   "id": "51c22178-7628-4905-92e3-7166165e7d17",
   "metadata": {},
   "outputs": [],
   "source": [
    "@dsl.component\n",
    "def f1(a: int, b: int) -> int:\n",
    "    return a + b\n",
    "\n",
    "@dsl.component\n",
    "def f2(a: int, b: int) -> int:\n",
    "    return a - b\n",
    "\n",
    "@dsl.component\n",
    "def f3(a: int, b: int) -> int:\n",
    "    return a*b"
   ]
  },
  {
   "cell_type": "code",
   "execution_count": 8,
   "id": "934b0dbb-aec2-45c5-b539-8d292fbd0f9b",
   "metadata": {},
   "outputs": [],
   "source": [
    "@dsl.pipeline\n",
    "def numpipeline(a: int, b: int) -> int:\n",
    "    task1 = f1(a=a,b=b)\n",
    "    task2 = f2(a=a,b=b)\n",
    "    task3 = f3(a=task1.output,b=task2.output)\n",
    "    return task3.output"
   ]
  },
  {
   "cell_type": "code",
   "execution_count": 9,
   "id": "dba8ad64-7c10-448b-84b0-dda58db15aff",
   "metadata": {},
   "outputs": [],
   "source": [
    "from kfp import compiler\n",
    "\n",
    "compiler.Compiler().compile(numpipeline, 'numpipeline.yaml')"
   ]
  },
  {
   "cell_type": "code",
   "execution_count": null,
   "id": "627718a0-703a-43ef-979c-f91eb7d5dcb4",
   "metadata": {},
   "outputs": [],
   "source": []
  }
 ],
 "metadata": {
  "kernelspec": {
   "display_name": "Python 3 (ipykernel)",
   "language": "python",
   "name": "python3"
  },
  "language_info": {
   "codemirror_mode": {
    "name": "ipython",
    "version": 3
   },
   "file_extension": ".py",
   "mimetype": "text/x-python",
   "name": "python",
   "nbconvert_exporter": "python",
   "pygments_lexer": "ipython3",
   "version": "3.12.4"
  }
 },
 "nbformat": 4,
 "nbformat_minor": 5
}
