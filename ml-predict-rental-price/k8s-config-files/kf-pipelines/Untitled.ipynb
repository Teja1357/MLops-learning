{
 "cells": [
  {
   "cell_type": "code",
   "execution_count": null,
   "id": "24eef2f9-a0c4-4a51-9422-5f17cc43e42f",
   "metadata": {},
   "outputs": [],
   "source": [
    "from kfp import dsl"
   ]
  },
  {
   "cell_type": "code",
   "execution_count": null,
   "id": "8d362ddc-93ab-4939-b8f1-700a65afa210",
   "metadata": {},
   "outputs": [],
   "source": [
    "@dsl.component\n",
    "def modeldevelopment() -> float:\n",
    "    #import all libraries\n",
    "import pandas as pd\n",
    "from sklearn.linear_model import LinearRegression\n",
    "from sklearn.model_selection import train_test_split\n",
    "from sklearn.metrics import mean_squared_error\n",
    "import numpy as np\n",
    "import joblib\n",
    "\n",
    "#create Data frame for Data processing\n",
    "rentalDF = pd.read_csv(\"data/rental_1000.csv\")\n",
    "\n",
    "#Data transformation (Featurization - use features for model Development)\n",
    "X = rentalDF[['rooms','sqft']].values  #Features\n",
    "y = rentalDF['price'].values           #Labels\n",
    "\n",
    "#Split the Date into Training and Testing\n",
    "X_train, X_test, y_train, y_test = train_test_split(X, y, test_size=0.20)\n",
    "\n",
    "#Model Training\n",
    "model = LinearRegression().fit(X, y)\n",
    "\n",
    "#Save the Model \n",
    "joblib.dump(model,'rental_price_model.joblib')\n",
    "\n",
    "# Load the model\n",
    "model = joblib.load('rental_price_model.joblib')\n",
    "\n",
    "# Model Prediction\n",
    "y_pred = model.predict(X_test)\n",
    "\n",
    "#Compute RMSE\n",
    "rmse = np.sqrt(mean_squared_error(y_test, y_pred))\n",
    "print(f\"RMSE: {rmse}\")\n",
    "\n",
    "#Example Prediction for a specific test sample\n",
    "sample_index = 0  #Change this index to test different sample\n",
    "predict_rental_price = model.predict([X_test[sample_index]])[0]\n",
    "print(f\"The Actual Rental Price for Rooms count={X_test[sample_index][0]} and Area in sqft={X_test[sample_index][1]} is={y_test[sample_index]}\")\n",
    "print(f\"The Predicted Rental Price for Rooms count={X_test[sample_index][0]} and Area in sqft={X_test[sample_index][1]} is={predict_rental_price}\")\n",
    "\n",
    "\n",
    "#rooms_count = int(input(\"Enter the number of rooms:=\"))\n",
    "#area_sqft   = float(input(\"Enter the Area in Sqft:=\")) \n",
    "\n",
    "#user_input = np.array([[rooms_count,area_sqft]])\n",
    "\n",
    "#predict_rental_price = model.predict(user_input)[0]\n",
    "\n",
    "#print(f\"The predicted Rental price for rooms count={rooms_count} and Area in Sqft={area_sqft} is={predict_rental_price}\")\n",
    "\n"
   ]
  },
  {
   "cell_type": "code",
   "execution_count": null,
   "id": "ca5c72a2-bb72-4823-bfee-16b7ecc96317",
   "metadata": {},
   "outputs": [],
   "source": [
    "def rental_prediction_pipeline():"
   ]
  }
 ],
 "metadata": {
  "kernelspec": {
   "display_name": "Python 3 (ipykernel)",
   "language": "python",
   "name": "python3"
  },
  "language_info": {
   "codemirror_mode": {
    "name": "ipython",
    "version": 3
   },
   "file_extension": ".py",
   "mimetype": "text/x-python",
   "name": "python",
   "nbconvert_exporter": "python",
   "pygments_lexer": "ipython3",
   "version": "3.12.4"
  }
 },
 "nbformat": 4,
 "nbformat_minor": 5
}
