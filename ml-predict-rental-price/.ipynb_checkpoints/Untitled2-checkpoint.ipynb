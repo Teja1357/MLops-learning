{
 "cells": [
  {
   "cell_type": "code",
   "execution_count": null,
   "id": "1353ff4b-04f9-42ed-b757-e540b76e4bd3",
   "metadata": {},
   "outputs": [],
   "source": [
    "import pandas as pd"
   ]
  },
  {
   "cell_type": "code",
   "execution_count": null,
   "id": "645eb391-31dd-4376-bfec-c2c2e7bd2e9c",
   "metadata": {},
   "outputs": [],
   "source": [
    "rentalDF = pd.read_csv(\"data/rental_1000.csv\")"
   ]
  },
  {
   "cell_type": "code",
   "execution_count": 2,
   "id": "76437c4d-d8a5-45ec-84b6-ae5683159f83",
   "metadata": {},
   "outputs": [
    {
     "ename": "NameError",
     "evalue": "name 'rentalDF' is not defined",
     "output_type": "error",
     "traceback": [
      "\u001b[31m---------------------------------------------------------------------------\u001b[39m",
      "\u001b[31mNameError\u001b[39m                                 Traceback (most recent call last)",
      "\u001b[36mCell\u001b[39m\u001b[36m \u001b[39m\u001b[32mIn[2]\u001b[39m\u001b[32m, line 1\u001b[39m\n\u001b[32m----> \u001b[39m\u001b[32m1\u001b[39m \u001b[43mrentalDF\u001b[49m\n",
      "\u001b[31mNameError\u001b[39m: name 'rentalDF' is not defined"
     ]
    }
   ],
   "source": [
    "rentalDF"
   ]
  },
  {
   "cell_type": "raw",
   "id": "e617e865-f5e4-474a-a338-df3a941b5e0e",
   "metadata": {},
   "source": []
  }
 ],
 "metadata": {
  "kernelspec": {
   "display_name": "Python 3 (ipykernel)",
   "language": "python",
   "name": "python3"
  },
  "language_info": {
   "codemirror_mode": {
    "name": "ipython",
    "version": 3
   },
   "file_extension": ".py",
   "mimetype": "text/x-python",
   "name": "python",
   "nbconvert_exporter": "python",
   "pygments_lexer": "ipython3",
   "version": "3.12.4"
  }
 },
 "nbformat": 4,
 "nbformat_minor": 5
}
