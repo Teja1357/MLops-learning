{
 "cells": [
  {
   "cell_type": "code",
   "execution_count": 1,
   "id": "8034b1be-fcf0-4627-afa6-4d47d0b7eb59",
   "metadata": {},
   "outputs": [
    {
     "name": "stdout",
     "output_type": "stream",
     "text": [
      "Hello Al welcome to notebooks\n"
     ]
    }
   ],
   "source": [
    "print('Hello Al welcome to notebooks')"
   ]
  },
  {
   "cell_type": "code",
   "execution_count": null,
   "id": "031b9f22-cc5e-4de3-93e2-b6ed3500adfc",
   "metadata": {},
   "outputs": [],
   "source": []
  }
 ],
 "metadata": {
  "kernelspec": {
   "display_name": "Python 3 (ipykernel)",
   "language": "python",
   "name": "python3"
  },
  "language_info": {
   "codemirror_mode": {
    "name": "ipython",
    "version": 3
   },
   "file_extension": ".py",
   "mimetype": "text/x-python",
   "name": "python",
   "nbconvert_exporter": "python",
   "pygments_lexer": "ipython3",
   "version": "3.12.4"
  }
 },
 "nbformat": 4,
 "nbformat_minor": 5
}
